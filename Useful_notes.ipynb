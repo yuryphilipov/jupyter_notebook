{
 "cells": [
  {
   "cell_type": "code",
   "execution_count": 1,
   "metadata": {},
   "outputs": [],
   "source": [
    "def range_of_primes(lower, upper):\n",
    "    \"\"\" Функция, возвращающая список простых чисел primes в промежутке [lower, upper) \"\"\"\n",
    "    primes = []\n",
    "    for i in range(lower, upper):\n",
    "        if i <= 1:\n",
    "            continue\n",
    "        elif i > 2 and i % 2 == 0:\n",
    "            continue\n",
    "        elif i > 3 and i % 3 == 0:\n",
    "            continue\n",
    "        elif i > 5 and i % 5 == 0:\n",
    "            continue\n",
    "        elif i > 7 and i % 7 == 0:\n",
    "            continue\n",
    "        elif i % 9 == 0:\n",
    "            continue\n",
    "        else:\n",
    "            primes.append(i)\n",
    "    return primes"
   ]
  },
  {
   "cell_type": "code",
   "execution_count": 2,
   "metadata": {},
   "outputs": [],
   "source": [
    "def fib(n):\n",
    "    \"\"\" Функция, возвращающая n-е число Фиббоначи методом рекурсии \"\"\"\n",
    "    if n <= 1:\n",
    "        return 1\n",
    "    return fib(n-1) + fib(n-2)"
   ]
  },
  {
   "cell_type": "code",
   "execution_count": 1,
   "metadata": {},
   "outputs": [],
   "source": [
    "def fib_gen():\n",
    "    \"\"\" Генератор чисел Фиббоначи \"\"\"\n",
    "    a = b = 1\n",
    "    yield b\n",
    "    while True:\n",
    "        a, b = b, a + b\n",
    "        yield b"
   ]
  },
  {
   "cell_type": "code",
   "execution_count": 20,
   "metadata": {},
   "outputs": [
    {
     "name": "stdout",
     "output_type": "stream",
     "text": [
      "[2, 5]\n"
     ]
    }
   ],
   "source": [
    "def range_of_primes(lower, upper):\n",
    "    \"\"\" Генератор, возвращающий простые числа в промежутке [lower, upper) \"\"\"    \n",
    "    for i in range(lower, upper):\n",
    "        if i <= 1:\n",
    "            continue\n",
    "        elif i > 2 and i % 2 == 0:\n",
    "            continue\n",
    "        elif i > 3 and i % 3 == 0:\n",
    "            continue\n",
    "        elif i > 5 and i % 5 == 0:\n",
    "            continue\n",
    "        elif i > 7 and i % 7 == 0:\n",
    "            continue\n",
    "        elif i % 9 == 0:\n",
    "            continue\n",
    "        else:\n",
    "            yield i\n",
    "\n",
    "n = 50\n",
    "res = []\n",
    "for p in range_of_primes(0,n):\n",
    "    if n%p == 0:\n",
    "        res.append(p)\n",
    "print(res)"
   ]
  },
  {
   "cell_type": "code",
   "execution_count": null,
   "metadata": {},
   "outputs": [],
   "source": [
    "# Сложная правильная скобочная последовательность\n",
    "def f(s):\n",
    "    cnt = 0\n",
    "    CLOSED = {')':'(', '}':'{', ']':'['}\n",
    "    parentheses = dict()\n",
    "    s = ''.join(c for c in s if c in '(){}[]')\n",
    "    for c in s:\n",
    "        if c in '([{':\n",
    "            parentheses[c] = parentheses.get(c,0) + 1\n",
    "        if c in CLOSED:\n",
    "            parentheses[CLOSED[c]] = parentheses.get(CLOSED[c],0) - 1        \n",
    "        if any(x<0 for x in parentheses.values()):\n",
    "            return False\n",
    "    return all(x==0 for x in parentheses.values())"
   ]
  },
  {
   "cell_type": "code",
   "execution_count": 11,
   "metadata": {},
   "outputs": [],
   "source": [
    "# Простая правильная скобочная последовательность\n",
    "def f(s):\n",
    "    s = ''.join(c for c in s if c in '()')\n",
    "    cnt = 0\n",
    "    for c in s:\n",
    "        if c == '(':\n",
    "            cnt += 1\n",
    "        else:\n",
    "            cnt -= 1\n",
    "        if cnt < 0:\n",
    "            return False\n",
    "    return cnt == 0  "
   ]
  },
  {
   "cell_type": "code",
   "execution_count": 2,
   "metadata": {},
   "outputs": [
    {
     "name": "stdout",
     "output_type": "stream",
     "text": [
      "True\n",
      "3\n",
      "4\n",
      "1\n",
      "1\n"
     ]
    }
   ],
   "source": [
    "# Реализация стека на Python\n",
    "class Stack:\n",
    "    def __init__(self):\n",
    "        self.items = []\n",
    "    \n",
    "    def is_empty(self):\n",
    "        return len(self.items) == 0\n",
    "    \n",
    "    def push(self, item):\n",
    "        self.items.append(item)\n",
    "        \n",
    "    def pop(self):\n",
    "        return self.items.pop()\n",
    "    \n",
    "    def peek(self):\n",
    "        return self.items[-1]\n",
    "    \n",
    "    def size(self):\n",
    "        return len(self.items)\n",
    "\n",
    "s = Stack()\n",
    "print(s.is_empty())\n",
    "s.push(1)\n",
    "s.push(2)\n",
    "s.push(4)\n",
    "print(s.size())\n",
    "print(s.peek())\n",
    "s.pop()\n",
    "s.pop()\n",
    "print(s.size())\n",
    "print(s.peek())"
   ]
  },
  {
   "cell_type": "code",
   "execution_count": null,
   "metadata": {},
   "outputs": [],
   "source": [
    "#Реализация очереди\n",
    "class Queue:\n",
    "    def __init__(self):\n",
    "        self.items = []\n",
    "    \n",
    "    def is_empty(self):\n",
    "        return len(self.items) == 0\n",
    "    \n",
    "    def enqueue(self, item):\n",
    "        self.items.append(item)\n",
    "    \n",
    "    def dequeue(self):\n",
    "        return self.items.pop(0)\n",
    "    \n",
    "    def size(self):\n",
    "        return len(self.items)\n",
    "    \n",
    "    def __str__(self):\n",
    "        return '[' + ', '.join(map(str, self.items)) + ']'\n",
    "    \n",
    "q = Queue()\n",
    "print(q.is_empty())\n",
    "q.enqueue(1)\n",
    "q.enqueue('2')\n",
    "q.enqueue(3.0)\n",
    "q.enqueue(4)\n",
    "print(q.size())\n",
    "print(q.dequeue())\n",
    "q.enqueue(5)\n",
    "print(q)"
   ]
  },
  {
   "cell_type": "code",
   "execution_count": 11,
   "metadata": {},
   "outputs": [
    {
     "name": "stdout",
     "output_type": "stream",
     "text": [
      "1\n",
      "35\n"
     ]
    }
   ],
   "source": [
    "# Наибольший общий делитель двух чисел\n",
    "def gcd(a, b): \n",
    "    while a % b != 0:\n",
    "        a, b = b, a % b\n",
    "    return b\n",
    "\n",
    "def gcd_v2(a, b):\n",
    "    while a != b:\n",
    "        if a > b:\n",
    "            a = a - b\n",
    "        else:\n",
    "            b = b - a\n",
    "    return a\n",
    "\n",
    "# Наименьшее общее кратное двух чисел\n",
    "def lcm(a, b):\n",
    "    return (a * b) // gcd(a, b);\n",
    "\n",
    "print(gcd(7, 5))\n",
    "print(lcm(7, 5))"
   ]
  }
 ],
 "metadata": {
  "kernelspec": {
   "display_name": "Python 3",
   "language": "python",
   "name": "python3"
  },
  "language_info": {
   "codemirror_mode": {
    "name": "ipython",
    "version": 3
   },
   "file_extension": ".py",
   "mimetype": "text/x-python",
   "name": "python",
   "nbconvert_exporter": "python",
   "pygments_lexer": "ipython3",
   "version": "3.6.3"
  }
 },
 "nbformat": 4,
 "nbformat_minor": 2
}
