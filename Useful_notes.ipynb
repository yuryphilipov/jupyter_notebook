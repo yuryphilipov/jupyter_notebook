{
 "cells": [
  {
   "cell_type": "code",
   "execution_count": 12,
   "metadata": {},
   "outputs": [
    {
     "data": {
      "text/plain": [
       "[2, 3, 5, 7]"
      ]
     },
     "execution_count": 12,
     "metadata": {},
     "output_type": "execute_result"
    }
   ],
   "source": [
    "def range_of_primes(lower, upper):\n",
    "    \"\"\" Функция, возвращающая список простых чисел primes в промежутке [lower, upper) \"\"\"\n",
    "    primes = []\n",
    "    for i in range(lower, upper):\n",
    "        if i <= 1:\n",
    "            continue\n",
    "        elif i > 2 and i % 2 == 0:\n",
    "            continue\n",
    "        elif i > 3 and i % 3 == 0:\n",
    "            continue\n",
    "        elif i > 5 and i % 5 == 0:\n",
    "            continue\n",
    "        elif i > 7 and i % 7 == 0:\n",
    "            continue\n",
    "        elif i % 9 == 0:\n",
    "            continue\n",
    "        else:\n",
    "            primes.append(i)\n",
    "    return primes\n",
    "\n",
    "range_of_primes(2,10)"
   ]
  },
  {
   "cell_type": "code",
   "execution_count": 2,
   "metadata": {},
   "outputs": [],
   "source": [
    "def fib(n):\n",
    "    \"\"\" Функция, возвращающая n-е число Фиббоначи методом рекурсии \"\"\"\n",
    "    if n <= 1:\n",
    "        return 1\n",
    "    return fib(n-1) + fib(n-2)"
   ]
  },
  {
   "cell_type": "code",
   "execution_count": 1,
   "metadata": {},
   "outputs": [],
   "source": [
    "def fib_gen():\n",
    "    \"\"\" Генератор чисел Фиббоначи \"\"\"\n",
    "    a = b = 1\n",
    "    yield b\n",
    "    while True:\n",
    "        a, b = b, a + b\n",
    "        yield b"
   ]
  },
  {
   "cell_type": "code",
   "execution_count": 20,
   "metadata": {},
   "outputs": [
    {
     "name": "stdout",
     "output_type": "stream",
     "text": [
      "[2, 5]\n"
     ]
    }
   ],
   "source": [
    "def range_of_primes(lower, upper):\n",
    "    \"\"\" Генератор, возвращающий простые числа в промежутке [lower, upper) \"\"\"    \n",
    "    for i in range(lower, upper):\n",
    "        if i <= 1:\n",
    "            continue\n",
    "        elif i > 2 and i % 2 == 0:\n",
    "            continue\n",
    "        elif i > 3 and i % 3 == 0:\n",
    "            continue\n",
    "        elif i > 5 and i % 5 == 0:\n",
    "            continue\n",
    "        elif i > 7 and i % 7 == 0:\n",
    "            continue\n",
    "        elif i % 9 == 0:\n",
    "            continue\n",
    "        else:\n",
    "            yield i\n",
    "\n",
    "n = 50\n",
    "res = []\n",
    "for p in range_of_primes(0,n):\n",
    "    if n%p == 0:\n",
    "        res.append(p)\n",
    "print(res)"
   ]
  },
  {
   "cell_type": "code",
   "execution_count": null,
   "metadata": {},
   "outputs": [],
   "source": []
  }
 ],
 "metadata": {
  "kernelspec": {
   "display_name": "Python 3",
   "language": "python",
   "name": "python3"
  },
  "language_info": {
   "codemirror_mode": {
    "name": "ipython",
    "version": 3
   },
   "file_extension": ".py",
   "mimetype": "text/x-python",
   "name": "python",
   "nbconvert_exporter": "python",
   "pygments_lexer": "ipython3",
   "version": "3.6.3"
  }
 },
 "nbformat": 4,
 "nbformat_minor": 2
}
