{
 "cells": [
  {
   "cell_type": "code",
   "execution_count": 3,
   "metadata": {},
   "outputs": [],
   "source": [
    "def bubble_sort(lst):\n",
    "    \"\"\" Пузырьковая сортировка \"\"\"    \n",
    "    if len(lst) <= 1:\n",
    "        return lst\n",
    "    for i in range(1,len(lst)):\n",
    "        for j in range(len(lst)-i):\n",
    "            if lst[j] > lst[j+1]:\n",
    "                lst[j], lst[j+1] = lst[j+1], lst[j]\n",
    "    return lst"
   ]
  },
  {
   "cell_type": "code",
   "execution_count": 2,
   "metadata": {},
   "outputs": [],
   "source": [
    "def insert_sort(lst):\n",
    "    \"\"\" Сортировка вставкой \"\"\"\n",
    "    if len(lst) <= 1:\n",
    "        return lst\n",
    "    for i in range(len(lst)):\n",
    "        j = i - 1\n",
    "        while j >= 0 and lst[j+1] < lst[j]:            \n",
    "            lst[j+1], lst[j] = lst[j], lst[j+1]\n",
    "            print(lst)\n",
    "            j -= 1\n",
    "    return lst"
   ]
  },
  {
   "cell_type": "code",
   "execution_count": 13,
   "metadata": {},
   "outputs": [],
   "source": [
    "def merge_sort(lst):\n",
    "    \"\"\" Сортировка слиянием \"\"\"\n",
    "    if len(lst) <= 1:\n",
    "        return lst\n",
    "    \n",
    "    l = merge_sort(lst[:len(lst)//2])\n",
    "    r = merge_sort(lst[len(lst)//2:])\n",
    "        \n",
    "    res = []\n",
    "    i = j = 0\n",
    "    while i < len(l) or j < len(r):\n",
    "        if i > len(l)-1:\n",
    "            res.append(r[j])\n",
    "            j += 1\n",
    "        elif j > len(r)-1:\n",
    "            res.append(l[i])\n",
    "            i += 1\n",
    "        elif l[i] < r[j]:\n",
    "            res.append(l[i])\n",
    "            i += 1\n",
    "        else:\n",
    "            res.append(r[j])\n",
    "            j += 1\n",
    "        \n",
    "    return res   "
   ]
  },
  {
   "cell_type": "code",
   "execution_count": 5,
   "metadata": {},
   "outputs": [],
   "source": [
    "def quick_sort(lst):\n",
    "    \"\"\" Быстрая сортировка \"\"\"\n",
    "    import random\n",
    "    \n",
    "    if len(lst) <= 1:\n",
    "        return lst\n",
    "    \n",
    "    r =random.choice(lst)\n",
    "    s_lst = []\n",
    "    e_lst = []\n",
    "    g_lst = []\n",
    "    for i in lst:\n",
    "        if i < r:\n",
    "            s_lst.append(i)\n",
    "        elif i > r:\n",
    "            g_lst.append(i)\n",
    "        else:\n",
    "            e_lst.append(i)\n",
    "    return quick_sort(s_lst) + e_lst + quick_sort(g_lst)"
   ]
  }
 ],
 "metadata": {
  "kernelspec": {
   "display_name": "Python 3",
   "language": "python",
   "name": "python3"
  },
  "language_info": {
   "codemirror_mode": {
    "name": "ipython",
    "version": 3
   },
   "file_extension": ".py",
   "mimetype": "text/x-python",
   "name": "python",
   "nbconvert_exporter": "python",
   "pygments_lexer": "ipython3",
   "version": "3.6.3"
  }
 },
 "nbformat": 4,
 "nbformat_minor": 2
}
